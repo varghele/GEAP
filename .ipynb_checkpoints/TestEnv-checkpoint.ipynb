{
 "cells": [
  {
   "cell_type": "code",
   "execution_count": 1,
   "id": "43ca2acd",
   "metadata": {},
   "outputs": [],
   "source": [
    "from deap import base, creator\n",
    "from deap import tools\n",
    "import array\n",
    "import random\n",
    "import numpy as np"
   ]
  },
  {
   "cell_type": "code",
   "execution_count": 2,
   "id": "7356c232",
   "metadata": {},
   "outputs": [],
   "source": [
    "def rnd2bit():\n",
    "    return [random.randint(0,1), random.random()]"
   ]
  },
  {
   "cell_type": "code",
   "execution_count": 7,
   "id": "91fc3944",
   "metadata": {},
   "outputs": [],
   "source": [
    "def mkind(num, n):\n",
    "    r = random.sample(range(num),n)\n",
    "    return [[r[i], random.random()] for i in range(n)]"
   ]
  },
  {
   "cell_type": "code",
   "execution_count": 42,
   "id": "e4695085",
   "metadata": {},
   "outputs": [
    {
     "name": "stdout",
     "output_type": "stream",
     "text": [
      "{0: 4, 1: 4, 2: 4, 3: 5, 4: 4, 5: 4, 6: 2, 7: 4, 8: 5, 9: 3, 10: 4, 11: 4, 12: 2, 13: 1, 14: 2, 15: 4, 16: 1, 17: 1, 18: 5, 19: 1, 20: 5, 21: 5, 22: 4, 23: 4, 24: 5, 25: 5, 26: 5, 27: 1, 28: 5, 29: 5, 30: 4, 31: 4, 32: 5, 33: 3, 34: 1, 35: 5, 36: 4, 37: 2, 38: 1, 39: 5, 40: 1, 41: 3, 42: 3, 43: 1, 44: 4, 45: 1, 46: 4, 47: 1, 48: 1, 49: 1, 50: 4, 51: 2, 52: 1, 53: 2, 54: 1, 55: 2, 56: 1, 57: 4, 58: 3, 59: 1, 60: 4, 61: 5, 62: 1, 63: 2, 64: 4, 65: 1, 66: 3, 67: 1, 68: 3, 69: 3, 70: 5, 71: 1, 72: 1, 73: 2, 74: 4, 75: 3, 76: 5, 77: 2, 78: 2, 79: 4, 80: 4, 81: 2, 82: 2, 83: 4, 84: 4, 85: 1, 86: 4, 87: 3, 88: 2, 89: 3, 90: 4, 91: 4, 92: 4, 93: 4, 94: 2, 95: 4, 96: 4, 97: 2, 98: 4, 99: 5, 100: 1, 101: 4, 102: 3, 103: 2, 104: 5, 105: 3, 106: 3, 107: 1, 108: 1, 109: 5, 110: 3, 111: 3, 112: 1, 113: 1, 114: 4, 115: 2, 116: 1, 117: 5, 118: 3, 119: 1, 120: 3, 121: 2, 122: 2, 123: 4, 124: 5, 125: 2, 126: 1, 127: 5, 128: 4, 129: 3, 130: 2, 131: 3, 132: 1, 133: 3, 134: 2, 135: 3, 136: 5, 137: 1, 138: 5, 139: 5}\n",
      "{1: [0.1, 0.2], 2: [0.3, 0.4], 3: [0.2, 0.5], 4: [0.2, 0.3], 5: [0.05, 0.1]}\n"
     ]
    }
   ],
   "source": [
    "# Creating Dicts\n",
    "areas = {key:value for key, value in zip(range(140),[random.randint(1,5) for i in range(140)])}\n",
    "constraints = {1:[0.1,0.2],\n",
    "          2:[0.3,0.4],\n",
    "          3:[0.2,0.5],\n",
    "          4:[0.2,0.3],\n",
    "          5:[0.05,0.1]}\n",
    "print(areas)\n",
    "print(constraints)"
   ]
  },
  {
   "cell_type": "code",
   "execution_count": 9,
   "id": "a6322411",
   "metadata": {},
   "outputs": [
    {
     "data": {
      "text/plain": [
       "[[116, 0.7847802081128219],\n",
       " [61, 0.5680983811149055],\n",
       " [18, 0.27043879594625964],\n",
       " [96, 0.8556542287562621],\n",
       " [118, 0.09297777221422421]]"
      ]
     },
     "execution_count": 9,
     "metadata": {},
     "output_type": "execute_result"
    }
   ],
   "source": [
    "dum = mkind(140,5)\n",
    "dum"
   ]
  },
  {
   "cell_type": "code",
   "execution_count": 10,
   "id": "27a1cad9",
   "metadata": {},
   "outputs": [
    {
     "data": {
      "text/plain": [
       "[[18, 0.27043879594625964],\n",
       " [61, 0.5680983811149055],\n",
       " [96, 0.8556542287562621],\n",
       " [116, 0.7847802081128219],\n",
       " [118, 0.09297777221422421]]"
      ]
     },
     "execution_count": 10,
     "metadata": {},
     "output_type": "execute_result"
    }
   ],
   "source": [
    "sorted(dum)"
   ]
  },
  {
   "cell_type": "code",
   "execution_count": 57,
   "id": "084902fd",
   "metadata": {},
   "outputs": [
    {
     "data": {
      "text/plain": [
       "True"
      ]
     },
     "execution_count": 57,
     "metadata": {},
     "output_type": "execute_result"
    }
   ],
   "source": [
    "a = np.sum(np.array(dum),axis=1)\n",
    "b = a + np.array([0,0,0,0,1])\n",
    "False in (a == b)"
   ]
  },
  {
   "cell_type": "code",
   "execution_count": 45,
   "id": "046762bf",
   "metadata": {},
   "outputs": [
    {
     "data": {
      "text/plain": [
       "[116, 0.7847802081128219]"
      ]
     },
     "execution_count": 45,
     "metadata": {},
     "output_type": "execute_result"
    }
   ],
   "source": [
    "dum[0]"
   ]
  },
  {
   "cell_type": "code",
   "execution_count": null,
   "id": "56afbf71",
   "metadata": {},
   "outputs": [],
   "source": [
    "def get_sorted_and_scaled_ind(ind_tensor, dic_area_constraints):\n",
    "    # Get list of list of individuals attributes\n",
    "    ind = [i for i in np.array(tensor)[0].tolist()]\n",
    "    \n",
    "    # Sort the list according to the first column\n",
    "    s_ind = sorted(ind)\n",
    "    \n",
    "    # Create list of lists to save results of split of each area\n",
    "    list_of_idx_lists = []\n",
    "    list_of_rates_of_area = []\n",
    "    list_of_funds_of_area = []\n",
    "    list_of_areas = []\n",
    "    \n",
    "    # Split rates and fund IDs into the different areas they belong to\n",
    "    for area in list(dic_area_constraints.keys()):\n",
    "        if area in np.array(ind).T[0].tolist():\n",
    "            # Get indizes of funds that are of that area\n",
    "            idx_list = [idx for idx in range(len(ind)) if ind[idx][0] == area]\n",
    "        \n",
    "            # Get rates of area of portfolio\n",
    "            rates_of_area = [ind[idx][1] for idx in idx_list]\n",
    "        \n",
    "            # Get funds of area\n",
    "            funds_of_area = [ind[idx][0] for idx in idx_list]\n",
    "            \n",
    "            # Append to list of lists\n",
    "            list_of_idx_lists.append(idx_list)\n",
    "            list_of_rates_of_area.append(rates_of_area)\n",
    "            list_of_funds_of_area.append(funds_of_area)\n",
    "            list_of_areas.append(area)\n",
    "    \n",
    "    # Get lower constraints of each area\n",
    "    low_cons = np.array([dic_area_constraints[1] for c in list_of_areas])\n",
    "    \n",
    "    # Convert list_of_raates to numpy array for easier scaling\n",
    "    list_of_rates_of_area = np.array(list_of_rates_of_area)\n",
    "    \n",
    "    # Scale rates to lower constraints\n",
    "    while (np.sum(list_of_rates_of_area) > 1) or (False in (np.sum(list_of_rates_of_area, axis=1)) > low_cons):\n",
    "        \n",
    "        \n",
    "    \n",
    "    return sans_ind"
   ]
  },
  {
   "cell_type": "code",
   "execution_count": 5,
   "id": "d26f1b74",
   "metadata": {},
   "outputs": [],
   "source": [
    "creator.create(\"FitnessMin\", base.Fitness, weights = (-1.0,))\n",
    "creator.create(\"Individual\", np.ndarray, fitness=creator.FitnessMin)\n",
    "\n",
    "IND_SIZE = 10\n",
    "\n",
    "toolbox = base.Toolbox()\n",
    "toolbox.register(\"attribute\", mkind, 140, 5)\n",
    "toolbox.register(\"individual\", tools.initRepeat, creator.Individual,\n",
    "                toolbox.attribute, n=1)\n"
   ]
  },
  {
   "cell_type": "code",
   "execution_count": 30,
   "id": "bf184318",
   "metadata": {},
   "outputs": [
    {
     "name": "stdout",
     "output_type": "stream",
     "text": [
      "[[[2.00000000e+01 3.83187750e-01]\n",
      "  [2.40000000e+01 7.69812536e-01]\n",
      "  [6.80000000e+01 1.56067826e-02]\n",
      "  [8.60000000e+01 3.42650237e-01]\n",
      "  [1.28000000e+02 4.72162547e-01]]]\n"
     ]
    },
    {
     "data": {
      "text/plain": [
       "[[20.0, 0.38318775005162964],\n",
       " [24.0, 0.7698125359295677],\n",
       " [68.0, 0.015606782597649471],\n",
       " [86.0, 0.3426502373079612],\n",
       " [128.0, 0.4721625473711709]]"
      ]
     },
     "execution_count": 30,
     "metadata": {},
     "output_type": "execute_result"
    }
   ],
   "source": [
    "tes = toolbox.individual()\n",
    "print(np.array(tes))\n",
    "[i for i in np.array(tes)[0].tolist()]"
   ]
  },
  {
   "cell_type": "code",
   "execution_count": null,
   "id": "53b5e563",
   "metadata": {},
   "outputs": [],
   "source": []
  },
  {
   "cell_type": "code",
   "execution_count": null,
   "id": "df099704",
   "metadata": {},
   "outputs": [],
   "source": []
  },
  {
   "cell_type": "code",
   "execution_count": null,
   "id": "a63c74e9",
   "metadata": {},
   "outputs": [],
   "source": []
  },
  {
   "cell_type": "code",
   "execution_count": null,
   "id": "359b5a3b",
   "metadata": {},
   "outputs": [],
   "source": []
  },
  {
   "cell_type": "code",
   "execution_count": null,
   "id": "3c79798c",
   "metadata": {},
   "outputs": [],
   "source": []
  },
  {
   "cell_type": "code",
   "execution_count": null,
   "id": "159e93ee",
   "metadata": {},
   "outputs": [],
   "source": []
  }
 ],
 "metadata": {
  "kernelspec": {
   "display_name": "Python 3 (ipykernel)",
   "language": "python",
   "name": "python3"
  },
  "language_info": {
   "codemirror_mode": {
    "name": "ipython",
    "version": 3
   },
   "file_extension": ".py",
   "mimetype": "text/x-python",
   "name": "python",
   "nbconvert_exporter": "python",
   "pygments_lexer": "ipython3",
   "version": "3.8.15"
  }
 },
 "nbformat": 4,
 "nbformat_minor": 5
}
