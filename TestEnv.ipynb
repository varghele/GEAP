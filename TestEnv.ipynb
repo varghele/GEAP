{
 "cells": [
  {
   "cell_type": "code",
   "execution_count": 1,
   "id": "43ca2acd",
   "metadata": {},
   "outputs": [],
   "source": [
    "from deap import base, creator\n",
    "from deap import tools\n",
    "import array\n",
    "import random\n",
    "import numpy as np"
   ]
  },
  {
   "cell_type": "code",
   "execution_count": 2,
   "id": "7356c232",
   "metadata": {},
   "outputs": [],
   "source": [
    "def rnd2bit():\n",
    "    return [random.randint(0,1), random.random()]"
   ]
  },
  {
   "cell_type": "code",
   "execution_count": 3,
   "id": "91fc3944",
   "metadata": {},
   "outputs": [],
   "source": [
    "def mkind(num, n):\n",
    "    r = random.sample(range(num),n)\n",
    "    return sorted([[r[i], random.random()] for i in range(n)])"
   ]
  },
  {
   "cell_type": "code",
   "execution_count": 4,
   "id": "a6322411",
   "metadata": {},
   "outputs": [
    {
     "data": {
      "text/plain": [
       "[[22, 0.6781986331136228],\n",
       " [57, 0.2500027116752076],\n",
       " [59, 0.8307851722937962],\n",
       " [64, 0.23399502222398894],\n",
       " [86, 0.9145439759486236]]"
      ]
     },
     "execution_count": 4,
     "metadata": {},
     "output_type": "execute_result"
    }
   ],
   "source": [
    "mkind(140,5)"
   ]
  },
  {
   "cell_type": "code",
   "execution_count": null,
   "id": "56afbf71",
   "metadata": {},
   "outputs": [],
   "source": []
  },
  {
   "cell_type": "code",
   "execution_count": 5,
   "id": "d26f1b74",
   "metadata": {},
   "outputs": [],
   "source": [
    "creator.create(\"FitnessMin\", base.Fitness, weights = (-1.0,))\n",
    "creator.create(\"Individual\", np.ndarray, fitness=creator.FitnessMin)\n",
    "\n",
    "IND_SIZE = 10\n",
    "\n",
    "toolbox = base.Toolbox()\n",
    "toolbox.register(\"attribute\", mkind, 140, 5)\n",
    "toolbox.register(\"individual\", tools.initRepeat, creator.Individual,\n",
    "                toolbox.attribute, n=1)\n"
   ]
  },
  {
   "cell_type": "code",
   "execution_count": 6,
   "id": "bf184318",
   "metadata": {},
   "outputs": [
    {
     "data": {
      "text/plain": [
       "Individual([[[1.00000000e+00, 9.74427265e-01],\n",
       "             [6.10000000e+01, 2.86003215e-01],\n",
       "             [1.07000000e+02, 4.74949717e-01],\n",
       "             [1.34000000e+02, 4.09920920e-01],\n",
       "             [1.37000000e+02, 9.99747845e-02]]])"
      ]
     },
     "execution_count": 6,
     "metadata": {},
     "output_type": "execute_result"
    }
   ],
   "source": [
    "toolbox.individual()"
   ]
  },
  {
   "cell_type": "code",
   "execution_count": null,
   "id": "53b5e563",
   "metadata": {},
   "outputs": [],
   "source": []
  },
  {
   "cell_type": "code",
   "execution_count": null,
   "id": "df099704",
   "metadata": {},
   "outputs": [],
   "source": []
  },
  {
   "cell_type": "code",
   "execution_count": null,
   "id": "a63c74e9",
   "metadata": {},
   "outputs": [],
   "source": []
  },
  {
   "cell_type": "code",
   "execution_count": null,
   "id": "359b5a3b",
   "metadata": {},
   "outputs": [],
   "source": []
  },
  {
   "cell_type": "code",
   "execution_count": null,
   "id": "3c79798c",
   "metadata": {},
   "outputs": [],
   "source": []
  },
  {
   "cell_type": "code",
   "execution_count": null,
   "id": "159e93ee",
   "metadata": {},
   "outputs": [],
   "source": []
  }
 ],
 "metadata": {
  "kernelspec": {
   "display_name": "Python 3 (ipykernel)",
   "language": "python",
   "name": "python3"
  },
  "language_info": {
   "codemirror_mode": {
    "name": "ipython",
    "version": 3
   },
   "file_extension": ".py",
   "mimetype": "text/x-python",
   "name": "python",
   "nbconvert_exporter": "python",
   "pygments_lexer": "ipython3",
   "version": "3.8.15"
  }
 },
 "nbformat": 4,
 "nbformat_minor": 5
}
